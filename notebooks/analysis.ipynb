{
 "cells": [
  {
   "cell_type": "code",
   "execution_count": 3,
   "id": "191454af-c410-49b5-87ce-7f022bc345b4",
   "metadata": {},
   "outputs": [],
   "source": [
    "import pandas as pd"
   ]
  },
  {
   "cell_type": "code",
   "execution_count": 5,
   "id": "0b2eb2aa-f5c9-469e-bec0-c562dade1298",
   "metadata": {},
   "outputs": [],
   "source": [
    "file_path = '../data/dentists.xlsx'"
   ]
  },
  {
   "cell_type": "code",
   "execution_count": 7,
   "id": "d93c9a0a-fcea-483c-8ca4-ccdf2748c56a",
   "metadata": {},
   "outputs": [],
   "source": [
    "df = pd.read_excel(file_path)"
   ]
  },
  {
   "cell_type": "code",
   "execution_count": 9,
   "id": "594f0b98-4ab4-457e-8f40-6930c14ec5df",
   "metadata": {},
   "outputs": [
    {
     "data": {
      "text/plain": [
       "(12, 8)"
      ]
     },
     "execution_count": 9,
     "metadata": {},
     "output_type": "execute_result"
    }
   ],
   "source": [
    "df.shape"
   ]
  },
  {
   "cell_type": "code",
   "execution_count": 13,
   "id": "2a5fe4d8-8e96-4052-a3ef-fae418aba12f",
   "metadata": {},
   "outputs": [
    {
     "data": {
      "text/plain": [
       "doctor       0\n",
       "praxis       0\n",
       "item_type    0\n",
       "address      0\n",
       "telephone    0\n",
       "email        0\n",
       "website      2\n",
       "url          0\n",
       "dtype: int64"
      ]
     },
     "execution_count": 13,
     "metadata": {},
     "output_type": "execute_result"
    }
   ],
   "source": [
    "df.isnull().sum()"
   ]
  },
  {
   "cell_type": "code",
   "execution_count": 19,
   "id": "d23d9679-0a17-470a-b970-e4a1eb7e5f68",
   "metadata": {},
   "outputs": [
    {
     "data": {
      "text/plain": [
       "0                           Friedrichstr. 24, Mühlacker\n",
       "1                 Frintroper Str. 336, Bedingrade Essen\n",
       "2                   Von-der-Leyen-Str. 52, Mülheim Köln\n",
       "3     Zahnzentrum Starnberg drseger MVZ GmbHOßwaldst...\n",
       "4                              Jakobstr. 23, Beuel Bonn\n",
       "5              Hüttenstr. 30, Friedrichstadt Düsseldorf\n",
       "6           Zähne im ZentrumHafenstr. 43, 48153 Münster\n",
       "7                       Rathenaustr. 15, Mitte Hannover\n",
       "8                         Am Courts Garten 2, Porz Köln\n",
       "9     Praxis für Zahnheilkunde Dr. Melanie Frauendor...\n",
       "10                        Königswinterer Str. 310, Bonn\n",
       "11                         Tauentzienstr. 7 b/c, Berlin\n",
       "Name: address, dtype: object"
      ]
     },
     "execution_count": 19,
     "metadata": {},
     "output_type": "execute_result"
    }
   ],
   "source": [
    "df['address']"
   ]
  },
  {
   "cell_type": "code",
   "execution_count": 25,
   "id": "ba514281-65b0-4bc3-940b-b9ccd772c853",
   "metadata": {},
   "outputs": [
    {
     "data": {
      "text/plain": [
       "3    Zahnzentrum Starnberg drseger MVZ GmbHOßwaldst...\n",
       "6          Zähne im ZentrumHafenstr. 43, 48153 Münster\n",
       "9    Praxis für Zahnheilkunde Dr. Melanie Frauendor...\n",
       "Name: address, dtype: object"
      ]
     },
     "execution_count": 25,
     "metadata": {},
     "output_type": "execute_result"
    }
   ],
   "source": [
    "df[ df['item_type']== 'clinic']['address']"
   ]
  },
  {
   "cell_type": "code",
   "execution_count": null,
   "id": "3b48faa2-ac3a-4451-8d51-af1cb033bab0",
   "metadata": {},
   "outputs": [],
   "source": []
  }
 ],
 "metadata": {
  "kernelspec": {
   "display_name": "Python 3 (ipykernel)",
   "language": "python",
   "name": "python3"
  },
  "language_info": {
   "codemirror_mode": {
    "name": "ipython",
    "version": 3
   },
   "file_extension": ".py",
   "mimetype": "text/x-python",
   "name": "python",
   "nbconvert_exporter": "python",
   "pygments_lexer": "ipython3",
   "version": "3.12.7"
  }
 },
 "nbformat": 4,
 "nbformat_minor": 5
}
